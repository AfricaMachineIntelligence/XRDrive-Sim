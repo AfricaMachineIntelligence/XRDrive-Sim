{
 "cells": [
  {
   "cell_type": "code",
   "execution_count": 1,
   "metadata": {},
   "outputs": [],
   "source": [
    "import numpy as np\n",
    "import mxnet as mx\n",
    "import time\n",
    "import pandas as pd\n",
    "\n",
    "import cv2\n",
    "\n",
    "import logging\n",
    "logging.getLogger().setLevel(logging.DEBUG)  # logging to stdout"
   ]
  },
  {
   "cell_type": "code",
   "execution_count": 2,
   "metadata": {},
   "outputs": [],
   "source": [
    "import matplotlib.pyplot as plt\n",
    "%matplotlib inline"
   ]
  },
  {
   "cell_type": "code",
   "execution_count": 3,
   "metadata": {},
   "outputs": [],
   "source": [
    "data0 = pd.read_csv('complete_hand_data_clean.csv')#, names=['name','state'])"
   ]
  },
  {
   "cell_type": "code",
   "execution_count": 4,
   "metadata": {},
   "outputs": [
    {
     "data": {
      "text/html": [
       "<div>\n",
       "<style scoped>\n",
       "    .dataframe tbody tr th:only-of-type {\n",
       "        vertical-align: middle;\n",
       "    }\n",
       "\n",
       "    .dataframe tbody tr th {\n",
       "        vertical-align: top;\n",
       "    }\n",
       "\n",
       "    .dataframe thead th {\n",
       "        text-align: right;\n",
       "    }\n",
       "</style>\n",
       "<table border=\"1\" class=\"dataframe\">\n",
       "  <thead>\n",
       "    <tr style=\"text-align: right;\">\n",
       "      <th></th>\n",
       "      <th>name</th>\n",
       "      <th>state</th>\n",
       "    </tr>\n",
       "  </thead>\n",
       "  <tbody>\n",
       "    <tr>\n",
       "      <th>0</th>\n",
       "      <td>data/xrdata1/hand_xrpic/a_232bf02f_0_lc.jpg</td>\n",
       "      <td>0</td>\n",
       "    </tr>\n",
       "    <tr>\n",
       "      <th>1</th>\n",
       "      <td>data/xrdata1/hand_xrpic/a_232bf02f_1_lo.jpg</td>\n",
       "      <td>1</td>\n",
       "    </tr>\n",
       "    <tr>\n",
       "      <th>2</th>\n",
       "      <td>data/xrdata1/hand_xrpic/a_232bf02f_2_lq.jpg</td>\n",
       "      <td>2</td>\n",
       "    </tr>\n",
       "    <tr>\n",
       "      <th>3</th>\n",
       "      <td>data/xrdata1/hand_xrpic/a_232bf02f_3_lw.jpg</td>\n",
       "      <td>3</td>\n",
       "    </tr>\n",
       "    <tr>\n",
       "      <th>4</th>\n",
       "      <td>data/xrdata1/hand_xrpic/a_232bf02f_4_le.jpg</td>\n",
       "      <td>4</td>\n",
       "    </tr>\n",
       "  </tbody>\n",
       "</table>\n",
       "</div>"
      ],
      "text/plain": [
       "                                          name  state\n",
       "0  data/xrdata1/hand_xrpic/a_232bf02f_0_lc.jpg      0\n",
       "1  data/xrdata1/hand_xrpic/a_232bf02f_1_lo.jpg      1\n",
       "2  data/xrdata1/hand_xrpic/a_232bf02f_2_lq.jpg      2\n",
       "3  data/xrdata1/hand_xrpic/a_232bf02f_3_lw.jpg      3\n",
       "4  data/xrdata1/hand_xrpic/a_232bf02f_4_le.jpg      4"
      ]
     },
     "execution_count": 4,
     "metadata": {},
     "output_type": "execute_result"
    }
   ],
   "source": [
    "data0.head()"
   ]
  },
  {
   "cell_type": "code",
   "execution_count": 5,
   "metadata": {},
   "outputs": [],
   "source": [
    "num_class = len(data0['state'].unique())"
   ]
  },
  {
   "cell_type": "code",
   "execution_count": 6,
   "metadata": {},
   "outputs": [
    {
     "data": {
      "text/plain": [
       "{u'0': u' lc',\n",
       " u'1': u' lo',\n",
       " u'10': u' mc',\n",
       " u'11': u' mo',\n",
       " u'12': u' mq',\n",
       " u'13': u' mw',\n",
       " u'14': u' me',\n",
       " u'15': u' m1',\n",
       " u'16': u' m2',\n",
       " u'17': u' m3',\n",
       " u'18': u' m4',\n",
       " u'19': u' m5',\n",
       " u'2': u' lq',\n",
       " u'20': u' rc',\n",
       " u'21': u' ro',\n",
       " u'22': u' rq',\n",
       " u'23': u' rw',\n",
       " u'24': u' re',\n",
       " u'25': u' r1',\n",
       " u'26': u' r2',\n",
       " u'27': u' r3',\n",
       " u'28': u' r4',\n",
       " u'29': u' r5',\n",
       " u'3': u' lw',\n",
       " u'30': u'vc',\n",
       " u'31': u'vo',\n",
       " u'32': u'vq',\n",
       " u'33': u'vw',\n",
       " u'34': u've',\n",
       " u'35': u'v1',\n",
       " u'36': u'v2',\n",
       " u'37': u'v3',\n",
       " u'38': u'v4',\n",
       " u'39': u'v5',\n",
       " u'4': u' le',\n",
       " u'5': u' l1',\n",
       " u'6': u' l2',\n",
       " u'7': u' l3',\n",
       " u'8': u' l4',\n",
       " u'9': u' l5'}"
      ]
     },
     "execution_count": 6,
     "metadata": {},
     "output_type": "execute_result"
    }
   ],
   "source": [
    "import json\n",
    "with open('num2ges.json') as fin:\n",
    "    num_to_ges = json.load(fin, encoding='latin')\n",
    "num_to_ges"
   ]
  },
  {
   "cell_type": "code",
   "execution_count": 7,
   "metadata": {},
   "outputs": [],
   "source": [
    "# data0 = data0.replace({'state':ges_to_num})"
   ]
  },
  {
   "cell_type": "code",
   "execution_count": 8,
   "metadata": {},
   "outputs": [
    {
     "data": {
      "text/plain": [
       "(4320, 2)"
      ]
     },
     "execution_count": 8,
     "metadata": {},
     "output_type": "execute_result"
    }
   ],
   "source": [
    "data0.shape"
   ]
  },
  {
   "cell_type": "code",
   "execution_count": 9,
   "metadata": {},
   "outputs": [
    {
     "data": {
      "text/plain": [
       "((4320, 3, 64, 64), (4320,))"
      ]
     },
     "execution_count": 9,
     "metadata": {},
     "output_type": "execute_result"
    }
   ],
   "source": [
    "import os\n",
    "\n",
    "models_path = 'models'\n",
    "if not os.path.exists(models_path):\n",
    "    os.makedirs(models_path)\n",
    "\n",
    "labels = np.empty((data0.shape[0]))\n",
    "\n",
    "# res_width, res_height = 200, 200\n",
    "res_width, res_height = 64, 64\n",
    "\n",
    "imgs = np.empty(shape=(data0.shape[0],3, res_width,res_height))\n",
    "imgs.shape, labels.shape"
   ]
  },
  {
   "cell_type": "code",
   "execution_count": 10,
   "metadata": {},
   "outputs": [],
   "source": [
    "\n",
    "for i, (im_path, state) in enumerate(data0.values):\n",
    "#     im_path = prefix + im_name\n",
    "#     print im_path\n",
    "    img = cv2.imread(im_path)\n",
    "    gray = cv2.cvtColor(img, cv2.COLOR_BGR2YCR_CB)\n",
    "    res = cv2.resize(gray,(res_width, res_height), interpolation=cv2.INTER_CUBIC)\n",
    "\n",
    "    res = np.swapaxes(res, 0, 2)\n",
    "    res = np.swapaxes(res, 1, 2)\n",
    "    res = res[np.newaxis, :]\n",
    "\n",
    "    imgs[i] = res\n",
    "    labels[i] = state"
   ]
  },
  {
   "cell_type": "code",
   "execution_count": 11,
   "metadata": {},
   "outputs": [
    {
     "data": {
      "text/plain": [
       "<matplotlib.image.AxesImage at 0x7f7ef8a03c90>"
      ]
     },
     "execution_count": 11,
     "metadata": {},
     "output_type": "execute_result"
    },
    {
     "data": {
      "image/png": "[encoded data removed]",
      "text/plain": [
       "<Figure size 432x288 with 1 Axes>"
      ]
     },
     "metadata": {
      "needs_background": "light"
     },
     "output_type": "display_data"
    }
   ],
   "source": [
    "plt.imshow(gray)"
   ]
  },
  {
   "cell_type": "code",
   "execution_count": 12,
   "metadata": {},
   "outputs": [],
   "source": [
    "from sklearn.model_selection import train_test_split\n",
    "train_data, test_data, train_label, test_label = train_test_split(imgs, labels, test_size=0.1, shuffle=True)"
   ]
  },
  {
   "cell_type": "code",
   "execution_count": 13,
   "metadata": {},
   "outputs": [
    {
     "data": {
      "text/plain": [
       "((3888, 3, 64, 64), (3888,), (432, 3, 64, 64), (432,))"
      ]
     },
     "execution_count": 13,
     "metadata": {},
     "output_type": "execute_result"
    }
   ],
   "source": [
    "# train_data, train_label = imgs, labels\n",
    "# test_data, test_label = imgs[23:], labels[2:]\n",
    "train_data.shape, train_label.shape, test_data.shape, test_label.shape"
   ]
  },
  {
   "cell_type": "code",
   "execution_count": 14,
   "metadata": {},
   "outputs": [
    {
     "data": {
      "text/plain": [
       "array([22., 26., 26., 34.,  7., 39., 39., 30.,  8., 31., 32.,  3., 14.,\n",
       "       38., 35., 39., 30., 31., 32., 31., 35.,  5., 38., 21., 37., 21.,\n",
       "       27.,  8., 36.,  1., 13., 14., 38., 31., 14., 35.,  3., 39.,  2.,\n",
       "       32., 32., 37., 31., 39., 32., 37., 31., 35., 31.,  0.,  1., 14.,\n",
       "       37., 32., 20., 30., 30., 38.,  6., 31., 37.,  9., 39., 32., 38.,\n",
       "        5., 18.,  8., 24., 28., 14.,  4., 35.,  9., 35., 27.,  7., 19.,\n",
       "       34.,  0., 31., 11., 33., 35., 38., 32., 34., 32., 35.,  8., 19.,\n",
       "       24., 19.,  6.,  9., 36., 37.,  5., 36., 27., 32.,  0.,  1., 34.,\n",
       "        5.,  2., 32., 36., 30., 37., 31., 33.,  9.,  3., 37., 30., 29.,\n",
       "       32., 26., 15., 31., 21., 38., 17., 24., 38., 11., 30., 23., 37.,\n",
       "       17., 30., 35., 34., 11., 25.,  7.,  9., 16., 30., 13., 22.,  4.,\n",
       "       32., 16., 37.,  2.,  4., 34., 23., 13., 34.,  3., 14., 15.,  2.,\n",
       "       35., 35., 24., 16., 25., 33., 39., 17., 37., 35.,  4., 14., 35.,\n",
       "       37., 19., 14., 30., 36., 33., 31., 37., 34., 17.,  2., 38., 37.,\n",
       "        0., 32.,  9., 35., 35.,  3.,  9.,  1., 39., 39., 34., 36., 17.,\n",
       "       35., 25.,  9., 31., 17., 28., 27., 27., 29., 36., 23.,  8., 11.,\n",
       "       12., 35., 38., 13., 24., 22., 27., 30.,  7., 27.,  7., 19., 17.,\n",
       "        3.,  0., 32., 37.,  7., 15., 12., 10., 32., 33., 37., 32., 22.,\n",
       "       34.,  4., 17., 14., 35., 36., 18., 12., 23., 26., 35., 22., 33.,\n",
       "       30., 20., 33., 17., 37., 30., 27., 11., 33., 23., 31., 38., 38.,\n",
       "        1., 37., 36., 37.,  8., 14., 38., 30., 35.,  6., 22., 39.,  6.,\n",
       "       32.,  7.,  9., 31., 17., 35., 36., 25., 36., 22., 33., 38., 38.,\n",
       "        3., 31., 20., 36., 32., 27., 29., 10., 12.,  1., 19., 39.,  5.,\n",
       "        7., 31., 27., 33., 30., 33., 17.,  7., 30., 37., 27., 16.,  3.,\n",
       "       39., 31., 37.,  6., 31., 32., 26., 33., 28., 12., 31., 17.,  3.,\n",
       "       33., 30., 32., 31., 35., 27., 33.,  5., 38., 14., 30., 19., 39.,\n",
       "       34., 21., 13., 31., 36.,  6., 39., 39., 14., 33., 16., 38., 10.,\n",
       "       31., 10., 28.,  2., 17.,  8., 32., 33.,  4., 12.,  9., 32., 36.,\n",
       "       33., 39., 37., 31., 22., 12., 36.,  9., 11., 38., 30., 30., 30.,\n",
       "       10., 28., 35., 39., 38., 14., 15., 24., 26.,  6.,  7., 35., 32.,\n",
       "       26., 24.,  5., 29., 31., 32., 32., 18., 18., 39.,  3., 33., 32.,\n",
       "        6., 32., 24.,  5., 34., 37., 33., 31.,  9., 35.,  7.,  3., 39.,\n",
       "       13., 39., 14., 35., 28., 18., 21., 24., 33., 23., 39., 35.,  3.,\n",
       "       38., 31.,  7.])"
      ]
     },
     "execution_count": 14,
     "metadata": {},
     "output_type": "execute_result"
    }
   ],
   "source": [
    "test_label"
   ]
  },
  {
   "cell_type": "code",
   "execution_count": 15,
   "metadata": {},
   "outputs": [],
   "source": [
    "batch_size = 128\n",
    "train_iter = mx.io.NDArrayIter(train_data, train_label, batch_size, shuffle=True)\n",
    "eval_iter = mx.io.NDArrayIter(test_data, test_label, batch_size)"
   ]
  },
  {
   "cell_type": "code",
   "execution_count": 22,
   "metadata": {
    "scrolled": true
   },
   "outputs": [],
   "source": [
    "data = mx.sym.var('data')\n",
    "\n",
    "conv1 = mx.sym.Convolution(data=data, kernel=(5,5), num_filter=20, name='conv1')\n",
    "bn1 = mx.sym.BatchNorm(conv1, fix_gamma=True)\n",
    "tanh1 = mx.sym.Activation(data=bn1, act_type='relu')\n",
    "pool1 = mx.sym.Pooling(data=tanh1, pool_type='max', kernel=(2,2), stride=(2,2))\n",
    "\n",
    "conv2 = mx.sym.Convolution(data=pool1, kernel=(5,5), num_filter=50, name='conv2')\n",
    "bn2 = mx.sym.BatchNorm(conv2, fix_gamma=True)\n",
    "tanh2 = mx.sym.Activation(data=bn2, act_type='relu')\n",
    "pool2 = mx.sym.Pooling(data=tanh2, pool_type='max', kernel=(2,2), stride=(2,2))\n",
    "\n",
    "flat = mx.sym.flatten(data=pool2)\n",
    "fc1 = mx.sym.FullyConnected(data=flat, num_hidden=512)\n",
    "tanh3 = mx.sym.Activation(data=fc1, act_type='relu')\n",
    "\n",
    "drop = mx.symbol.Dropout(tanh3, p=0.5)\n",
    "fc2 = mx.sym.FullyConnected(data=drop, num_hidden=num_class)\n",
    "\n",
    "convnet = mx.sym.SoftmaxOutput(data=fc2, name='softmax')\n",
    "\n",
    "#mx.viz.plot_network(convnet)"
   ]
  },
  {
   "cell_type": "code",
   "execution_count": 23,
   "metadata": {},
   "outputs": [],
   "source": [
    "model = mx.mod.Module(symbol=convnet, context=mx.cpu())"
   ]
  },
  {
   "cell_type": "code",
   "execution_count": 24,
   "metadata": {},
   "outputs": [],
   "source": [
    "model.bind(data_shapes=train_iter.provide_data, label_shapes=train_iter.provide_label)\n",
    "model.init_params(initializer=mx.init.Uniform(scale=.01))\n",
    "model.init_optimizer(optimizer='sgd', optimizer_params={'learning_rate':0.001, 'wd': 0.001})\n",
    "\n",
    "metric = mx.metric.Accuracy()"
   ]
  },
  {
   "cell_type": "code",
   "execution_count": 25,
   "metadata": {
    "scrolled": true
   },
   "outputs": [
    {
     "name": "stderr",
     "output_type": "stream",
     "text": [
      "INFO:root:Saved checkpoint to \"models/chkpt-0000.params\"\n"
     ]
    },
    {
     "name": "stdout",
     "output_type": "stream",
     "text": [
      "Epoch 0, Training ('accuracy', 0.047379032258064516), Time 19.90\n",
      "Epoch 1, Training ('accuracy', 0.06854838709677419), Time 24.87\n",
      "Epoch 2, Training ('accuracy', 0.07182459677419355), Time 25.08\n",
      "Epoch 3, Training ('accuracy', 0.08568548387096774), Time 25.19\n",
      "Epoch 4, Training ('accuracy', 0.0859375), Time 25.07\n",
      "Epoch 5, Training ('accuracy', 0.09400201612903226), Time 25.00\n",
      "Epoch 6, Training ('accuracy', 0.11164314516129033), Time 25.01\n",
      "Epoch 7, Training ('accuracy', 0.10257056451612903), Time 25.41\n",
      "Epoch 8, Training ('accuracy', 0.1028225806451613), Time 25.73\n",
      "Epoch 9, Training ('accuracy', 0.11189516129032258), Time 25.11\n",
      "Epoch 10, Training ('accuracy', 0.12247983870967742), Time 26.02\n",
      "Epoch 11, Training ('accuracy', 0.13079637096774194), Time 25.52\n",
      "Epoch 12, Training ('accuracy', 0.13785282258064516), Time 26.75\n",
      "Epoch 13, Training ('accuracy', 0.14969758064516128), Time 27.65\n",
      "Epoch 14, Training ('accuracy', 0.1622983870967742), Time 25.62\n",
      "Epoch 15, Training ('accuracy', 0.1822076612903226), Time 26.15\n",
      "Epoch 16, Training ('accuracy', 0.19203629032258066), Time 25.47\n",
      "Epoch 17, Training ('accuracy', 0.19203629032258066), Time 25.97\n",
      "Epoch 18, Training ('accuracy', 0.2164818548387097), Time 27.01\n",
      "Epoch 19, Training ('accuracy', 0.22454637096774194), Time 31.43\n",
      "Epoch 20, Training ('accuracy', 0.2373991935483871), Time 27.56\n",
      "Epoch 21, Training ('accuracy', 0.25806451612903225), Time 29.07\n",
      "Epoch 22, Training ('accuracy', 0.2850302419354839), Time 25.33\n",
      "Epoch 23, Training ('accuracy', 0.2956149193548387), Time 25.20\n",
      "Epoch 24, Training ('accuracy', 0.3034274193548387), Time 25.28\n",
      "Epoch 25, Training ('accuracy', 0.3251008064516129), Time 25.21\n",
      "Epoch 26, Training ('accuracy', 0.3475302419354839), Time 25.32\n",
      "Epoch 27, Training ('accuracy', 0.3641633064516129), Time 25.20\n",
      "Epoch 28, Training ('accuracy', 0.3762600806451613), Time 25.18\n",
      "Epoch 29, Training ('accuracy', 0.4007056451612903), Time 25.29\n"
     ]
    },
    {
     "name": "stderr",
     "output_type": "stream",
     "text": [
      "INFO:root:Saved checkpoint to \"models/chkpt-0030.params\"\n"
     ]
    },
    {
     "name": "stdout",
     "output_type": "stream",
     "text": [
      "Epoch 30, Training ('accuracy', 0.4067540322580645), Time 25.77\n",
      "Epoch 31, Training ('accuracy', 0.4319556451612903), Time 25.04\n",
      "Epoch 32, Training ('accuracy', 0.4458165322580645), Time 25.22\n",
      "Epoch 33, Training ('accuracy', 0.4654737903225806), Time 25.22\n",
      "Epoch 34, Training ('accuracy', 0.47076612903225806), Time 25.21\n",
      "Epoch 35, Training ('accuracy', 0.4909274193548387), Time 25.38\n",
      "Epoch 36, Training ('accuracy', 0.5073084677419355), Time 25.21\n",
      "Epoch 37, Training ('accuracy', 0.5418346774193549), Time 25.24\n",
      "Epoch 38, Training ('accuracy', 0.5486391129032258), Time 25.37\n",
      "Epoch 39, Training ('accuracy', 0.5577116935483871), Time 25.22\n",
      "Epoch 40, Training ('accuracy', 0.5720766129032258), Time 25.36\n",
      "Epoch 41, Training ('accuracy', 0.5839213709677419), Time 25.27\n",
      "Epoch 42, Training ('accuracy', 0.6113911290322581), Time 25.26\n",
      "Epoch 43, Training ('accuracy', 0.6078629032258065), Time 25.23\n",
      "Epoch 44, Training ('accuracy', 0.6242439516129032), Time 25.24\n",
      "Epoch 45, Training ('accuracy', 0.6471774193548387), Time 25.38\n",
      "Epoch 46, Training ('accuracy', 0.6597782258064516), Time 25.20\n",
      "Epoch 47, Training ('accuracy', 0.6605342741935484), Time 25.19\n",
      "Epoch 48, Training ('accuracy', 0.6600302419354839), Time 25.20\n",
      "Epoch 49, Training ('accuracy', 0.6852318548387096), Time 25.20\n",
      "Epoch 50, Training ('accuracy', 0.6910282258064516), Time 25.32\n",
      "Epoch 51, Training ('accuracy', 0.6958165322580645), Time 25.24\n",
      "Epoch 52, Training ('accuracy', 0.7132056451612904), Time 25.22\n",
      "Epoch 53, Training ('accuracy', 0.7137096774193549), Time 25.42\n",
      "Epoch 54, Training ('accuracy', 0.7220262096774194), Time 25.43\n",
      "Epoch 55, Training ('accuracy', 0.7338709677419355), Time 25.21\n",
      "Epoch 56, Training ('accuracy', 0.735383064516129), Time 25.24\n",
      "Epoch 57, Training ('accuracy', 0.7545362903225806), Time 25.22\n",
      "Epoch 58, Training ('accuracy', 0.7608366935483871), Time 25.22\n",
      "Epoch 59, Training ('accuracy', 0.7583165322580645), Time 25.36\n"
     ]
    },
    {
     "name": "stderr",
     "output_type": "stream",
     "text": [
      "INFO:root:Saved checkpoint to \"models/chkpt-0060.params\"\n"
     ]
    },
    {
     "name": "stdout",
     "output_type": "stream",
     "text": [
      "Epoch 60, Training ('accuracy', 0.7709173387096774), Time 25.72\n",
      "Epoch 61, Training ('accuracy', 0.7709173387096774), Time 24.71\n",
      "Epoch 62, Training ('accuracy', 0.7837701612903226), Time 25.30\n",
      "Epoch 63, Training ('accuracy', 0.7941028225806451), Time 25.11\n",
      "Epoch 64, Training ('accuracy', 0.7976310483870968), Time 25.24\n",
      "Epoch 65, Training ('accuracy', 0.7986391129032258), Time 25.10\n",
      "Epoch 66, Training ('accuracy', 0.8044354838709677), Time 25.10\n",
      "Epoch 67, Training ('accuracy', 0.8079637096774194), Time 25.10\n",
      "Epoch 68, Training ('accuracy', 0.8167842741935484), Time 25.20\n",
      "Epoch 69, Training ('accuracy', 0.8182963709677419), Time 25.26\n",
      "Epoch 70, Training ('accuracy', 0.821320564516129), Time 25.12\n",
      "Epoch 71, Training ('accuracy', 0.8331653225806451), Time 25.10\n",
      "Epoch 72, Training ('accuracy', 0.8336693548387096), Time 25.12\n",
      "Epoch 73, Training ('accuracy', 0.8339213709677419), Time 25.26\n",
      "Epoch 74, Training ('accuracy', 0.8336693548387096), Time 25.09\n",
      "Epoch 75, Training ('accuracy', 0.8503024193548387), Time 25.13\n",
      "Epoch 76, Training ('accuracy', 0.8540826612903226), Time 25.10\n",
      "Epoch 77, Training ('accuracy', 0.8475302419354839), Time 25.14\n",
      "Epoch 78, Training ('accuracy', 0.859375), Time 25.32\n",
      "Epoch 79, Training ('accuracy', 0.8621471774193549), Time 25.13\n",
      "Epoch 80, Training ('accuracy', 0.8659274193548387), Time 25.17\n",
      "Epoch 81, Training ('accuracy', 0.8666834677419355), Time 25.16\n",
      "Epoch 82, Training ('accuracy', 0.8702116935483871), Time 25.74\n",
      "Epoch 83, Training ('accuracy', 0.8729838709677419), Time 25.17\n",
      "Epoch 84, Training ('accuracy', 0.8805443548387096), Time 25.26\n",
      "Epoch 85, Training ('accuracy', 0.8858366935483871), Time 26.19\n",
      "Epoch 86, Training ('accuracy', 0.8843245967741935), Time 25.26\n",
      "Epoch 87, Training ('accuracy', 0.8898689516129032), Time 25.16\n",
      "Epoch 88, Training ('accuracy', 0.8921370967741935), Time 25.30\n",
      "Epoch 89, Training ('accuracy', 0.8946572580645161), Time 25.16\n"
     ]
    },
    {
     "name": "stderr",
     "output_type": "stream",
     "text": [
      "INFO:root:Saved checkpoint to \"models/chkpt-0090.params\"\n"
     ]
    },
    {
     "name": "stdout",
     "output_type": "stream",
     "text": [
      "Epoch 90, Training ('accuracy', 0.9024697580645161), Time 25.67\n",
      "Epoch 91, Training ('accuracy', 0.9059979838709677), Time 24.67\n",
      "Epoch 92, Training ('accuracy', 0.9049899193548387), Time 25.37\n",
      "Epoch 93, Training ('accuracy', 0.9024697580645161), Time 25.16\n",
      "Epoch 94, Training ('accuracy', 0.9077620967741935), Time 25.19\n",
      "Epoch 95, Training ('accuracy', 0.9087701612903226), Time 25.16\n",
      "Epoch 96, Training ('accuracy', 0.9110383064516129), Time 25.15\n",
      "Epoch 97, Training ('accuracy', 0.9148185483870968), Time 25.55\n",
      "Epoch 98, Training ('accuracy', 0.9206149193548387), Time 25.14\n",
      "Epoch 99, Training ('accuracy', 0.9155745967741935), Time 25.18\n",
      "Epoch 100, Training ('accuracy', 0.9183467741935484), Time 25.17\n",
      "Epoch 101, Training ('accuracy', 0.9203629032258065), Time 25.22\n",
      "Epoch 102, Training ('accuracy', 0.9185987903225806), Time 25.30\n",
      "Epoch 103, Training ('accuracy', 0.9180947580645161), Time 25.20\n",
      "Epoch 104, Training ('accuracy', 0.9221270161290323), Time 25.99\n",
      "Epoch 105, Training ('accuracy', 0.9191028225806451), Time 27.73\n",
      "Epoch 106, Training ('accuracy', 0.9266633064516129), Time 27.90\n",
      "Epoch 107, Training ('accuracy', 0.9299395161290323), Time 25.15\n",
      "Epoch 108, Training ('accuracy', 0.9309475806451613), Time 25.16\n",
      "Epoch 109, Training ('accuracy', 0.9279233870967742), Time 26.01\n",
      "Epoch 110, Training ('accuracy', 0.9254032258064516), Time 27.00\n",
      "Epoch 111, Training ('accuracy', 0.9317036290322581), Time 26.63\n",
      "Epoch 112, Training ('accuracy', 0.9317036290322581), Time 27.48\n",
      "Epoch 113, Training ('accuracy', 0.930695564516129), Time 25.19\n",
      "Epoch 114, Training ('accuracy', 0.9367439516129032), Time 25.19\n",
      "Epoch 115, Training ('accuracy', 0.9349798387096774), Time 25.19\n",
      "Epoch 116, Training ('accuracy', 0.938508064516129), Time 25.35\n",
      "Epoch 117, Training ('accuracy', 0.9362399193548387), Time 25.70\n",
      "Epoch 118, Training ('accuracy', 0.9417842741935484), Time 25.16\n",
      "Epoch 119, Training ('accuracy', 0.9392641129032258), Time 25.14\n"
     ]
    },
    {
     "name": "stderr",
     "output_type": "stream",
     "text": [
      "INFO:root:Saved checkpoint to \"models/chkpt-0120.params\"\n"
     ]
    },
    {
     "name": "stdout",
     "output_type": "stream",
     "text": [
      "Epoch 120, Training ('accuracy', 0.9382560483870968), Time 25.80\n",
      "Epoch 121, Training ('accuracy', 0.9438004032258065), Time 24.65\n",
      "Epoch 122, Training ('accuracy', 0.9453125), Time 25.19\n",
      "Epoch 123, Training ('accuracy', 0.9430443548387096), Time 25.16\n",
      "Epoch 124, Training ('accuracy', 0.9445564516129032), Time 25.20\n",
      "Epoch 125, Training ('accuracy', 0.9448084677419355), Time 25.31\n",
      "Epoch 126, Training ('accuracy', 0.946320564516129), Time 25.17\n",
      "Epoch 127, Training ('accuracy', 0.9498487903225806), Time 25.18\n",
      "Epoch 128, Training ('accuracy', 0.9478326612903226), Time 25.17\n",
      "Epoch 129, Training ('accuracy', 0.9526209677419355), Time 25.17\n",
      "Epoch 130, Training ('accuracy', 0.9460685483870968), Time 25.28\n",
      "Epoch 131, Training ('accuracy', 0.9506048387096774), Time 25.20\n",
      "Epoch 132, Training ('accuracy', 0.9558971774193549), Time 25.18\n",
      "Epoch 133, Training ('accuracy', 0.9528729838709677), Time 25.93\n",
      "Epoch 134, Training ('accuracy', 0.954133064516129), Time 34.22\n",
      "Epoch 135, Training ('accuracy', 0.9498487903225806), Time 25.78\n",
      "Epoch 136, Training ('accuracy', 0.9546370967741935), Time 25.37\n",
      "Epoch 137, Training ('accuracy', 0.9546370967741935), Time 25.18\n",
      "Epoch 138, Training ('accuracy', 0.9581653225806451), Time 25.91\n",
      "Epoch 139, Training ('accuracy', 0.9538810483870968), Time 27.18\n",
      "Epoch 140, Training ('accuracy', 0.9558971774193549), Time 26.15\n",
      "Epoch 141, Training ('accuracy', 0.9581653225806451), Time 37.82\n",
      "Epoch 142, Training ('accuracy', 0.9564012096774194), Time 36.54\n",
      "Epoch 143, Training ('accuracy', 0.9571572580645161), Time 26.65\n",
      "Epoch 144, Training ('accuracy', 0.9606854838709677), Time 29.25\n",
      "Epoch 145, Training ('accuracy', 0.9634576612903226), Time 26.44\n",
      "Epoch 146, Training ('accuracy', 0.9667338709677419), Time 26.25\n",
      "Epoch 147, Training ('accuracy', 0.9614415322580645), Time 26.06\n",
      "Epoch 148, Training ('accuracy', 0.9621975806451613), Time 25.21\n",
      "Epoch 149, Training ('accuracy', 0.9642137096774194), Time 25.25\n"
     ]
    },
    {
     "name": "stderr",
     "output_type": "stream",
     "text": [
      "INFO:root:Saved checkpoint to \"models/chkpt-0150.params\"\n"
     ]
    },
    {
     "name": "stdout",
     "output_type": "stream",
     "text": [
      "Epoch 150, Training ('accuracy', 0.9589213709677419), Time 26.60\n",
      "Epoch 151, Training ('accuracy', 0.9674899193548387), Time 24.82\n",
      "Epoch 152, Training ('accuracy', 0.9627016129032258), Time 26.04\n",
      "Epoch 153, Training ('accuracy', 0.9604334677419355), Time 25.64\n",
      "Epoch 154, Training ('accuracy', 0.9634576612903226), Time 25.22\n",
      "Epoch 155, Training ('accuracy', 0.9647177419354839), Time 25.27\n",
      "Epoch 156, Training ('accuracy', 0.9674899193548387), Time 25.26\n",
      "Epoch 157, Training ('accuracy', 0.9662298387096774), Time 25.36\n",
      "Epoch 158, Training ('accuracy', 0.9652217741935484), Time 25.30\n",
      "Epoch 159, Training ('accuracy', 0.9674899193548387), Time 25.28\n",
      "Epoch 160, Training ('accuracy', 0.9649697580645161), Time 25.27\n",
      "Epoch 161, Training ('accuracy', 0.9634576612903226), Time 25.38\n",
      "Epoch 162, Training ('accuracy', 0.9679939516129032), Time 25.24\n",
      "Epoch 163, Training ('accuracy', 0.9667338709677419), Time 25.26\n",
      "Epoch 164, Training ('accuracy', 0.9690020161290323), Time 25.24\n",
      "Epoch 165, Training ('accuracy', 0.9621975806451613), Time 25.28\n",
      "Epoch 166, Training ('accuracy', 0.9700100806451613), Time 25.35\n",
      "Epoch 167, Training ('accuracy', 0.9712701612903226), Time 25.22\n",
      "Epoch 168, Training ('accuracy', 0.9692540322580645), Time 25.22\n",
      "Epoch 169, Training ('accuracy', 0.9695060483870968), Time 25.30\n",
      "Epoch 170, Training ('accuracy', 0.9717741935483871), Time 25.25\n",
      "Epoch 171, Training ('accuracy', 0.9692540322580645), Time 25.31\n",
      "Epoch 172, Training ('accuracy', 0.9732862903225806), Time 25.21\n",
      "Epoch 173, Training ('accuracy', 0.96875), Time 25.19\n",
      "Epoch 174, Training ('accuracy', 0.9712701612903226), Time 25.24\n",
      "Epoch 175, Training ('accuracy', 0.9740423387096774), Time 25.24\n",
      "Epoch 176, Training ('accuracy', 0.9717741935483871), Time 25.36\n",
      "Epoch 177, Training ('accuracy', 0.9750504032258065), Time 25.26\n",
      "Epoch 178, Training ('accuracy', 0.9727822580645161), Time 25.18\n",
      "Epoch 179, Training ('accuracy', 0.9725302419354839), Time 25.20\n"
     ]
    },
    {
     "name": "stderr",
     "output_type": "stream",
     "text": [
      "INFO:root:Saved checkpoint to \"models/chkpt-0180.params\"\n"
     ]
    },
    {
     "name": "stdout",
     "output_type": "stream",
     "text": [
      "Epoch 180, Training ('accuracy', 0.9725302419354839), Time 25.88\n",
      "Epoch 181, Training ('accuracy', 0.9753024193548387), Time 24.68\n",
      "Epoch 182, Training ('accuracy', 0.9737903225806451), Time 25.17\n",
      "Epoch 183, Training ('accuracy', 0.9747983870967742), Time 25.25\n",
      "Epoch 184, Training ('accuracy', 0.9785786290322581), Time 25.18\n",
      "Epoch 185, Training ('accuracy', 0.9758064516129032), Time 25.30\n",
      "Epoch 186, Training ('accuracy', 0.9768145161290323), Time 25.15\n",
      "Epoch 187, Training ('accuracy', 0.9753024193548387), Time 25.21\n",
      "Epoch 188, Training ('accuracy', 0.9770665322580645), Time 25.16\n",
      "Epoch 189, Training ('accuracy', 0.9737903225806451), Time 25.15\n",
      "Epoch 190, Training ('accuracy', 0.9725302419354839), Time 25.29\n",
      "Epoch 191, Training ('accuracy', 0.9763104838709677), Time 25.19\n",
      "Epoch 192, Training ('accuracy', 0.9785786290322581), Time 25.19\n",
      "Epoch 193, Training ('accuracy', 0.9763104838709677), Time 25.27\n",
      "Epoch 194, Training ('accuracy', 0.9765625), Time 25.31\n",
      "Epoch 195, Training ('accuracy', 0.9763104838709677), Time 25.35\n",
      "Epoch 196, Training ('accuracy', 0.975554435483871), Time 25.26\n",
      "Epoch 197, Training ('accuracy', 0.9793346774193549), Time 25.24\n",
      "Epoch 198, Training ('accuracy', 0.9770665322580645), Time 25.24\n",
      "Epoch 199, Training ('accuracy', 0.9758064516129032), Time 25.34\n",
      "Epoch 200, Training ('accuracy', 0.9800907258064516), Time 25.25\n",
      "Epoch 201, Training ('accuracy', 0.9800907258064516), Time 25.26\n",
      "Epoch 202, Training ('accuracy', 0.9765625), Time 25.24\n",
      "Epoch 203, Training ('accuracy', 0.9793346774193549), Time 25.29\n",
      "Epoch 204, Training ('accuracy', 0.9780745967741935), Time 25.34\n",
      "Epoch 205, Training ('accuracy', 0.9783266129032258), Time 25.22\n",
      "Epoch 206, Training ('accuracy', 0.977570564516129), Time 25.25\n",
      "Epoch 207, Training ('accuracy', 0.9798387096774194), Time 25.25\n",
      "Epoch 208, Training ('accuracy', 0.9747983870967742), Time 25.37\n",
      "Epoch 209, Training ('accuracy', 0.9788306451612904), Time 25.33\n"
     ]
    },
    {
     "name": "stderr",
     "output_type": "stream",
     "text": [
      "INFO:root:Saved checkpoint to \"models/chkpt-0210.params\"\n"
     ]
    },
    {
     "name": "stdout",
     "output_type": "stream",
     "text": [
      "Epoch 210, Training ('accuracy', 0.9803427419354839), Time 25.79\n",
      "Epoch 211, Training ('accuracy', 0.9778225806451613), Time 24.72\n",
      "Epoch 212, Training ('accuracy', 0.9798387096774194), Time 25.25\n",
      "Epoch 213, Training ('accuracy', 0.9823588709677419), Time 25.28\n",
      "Epoch 214, Training ('accuracy', 0.9810987903225806), Time 25.34\n",
      "Epoch 215, Training ('accuracy', 0.9831149193548387), Time 25.23\n",
      "Epoch 216, Training ('accuracy', 0.9800907258064516), Time 25.24\n",
      "Epoch 217, Training ('accuracy', 0.9800907258064516), Time 25.24\n",
      "Epoch 218, Training ('accuracy', 0.9800907258064516), Time 25.37\n",
      "Epoch 219, Training ('accuracy', 0.9793346774193549), Time 25.18\n",
      "Epoch 220, Training ('accuracy', 0.9838709677419355), Time 25.20\n",
      "Epoch 221, Training ('accuracy', 0.9831149193548387), Time 25.20\n",
      "Epoch 222, Training ('accuracy', 0.9818548387096774), Time 25.20\n",
      "Epoch 223, Training ('accuracy', 0.983366935483871), Time 25.27\n",
      "Epoch 224, Training ('accuracy', 0.9823588709677419), Time 25.18\n",
      "Epoch 225, Training ('accuracy', 0.9836189516129032), Time 25.19\n",
      "Epoch 226, Training ('accuracy', 0.9826108870967742), Time 25.19\n",
      "Epoch 227, Training ('accuracy', 0.9831149193548387), Time 25.18\n",
      "Epoch 228, Training ('accuracy', 0.9793346774193549), Time 25.25\n",
      "Epoch 229, Training ('accuracy', 0.9831149193548387), Time 25.17\n",
      "Epoch 230, Training ('accuracy', 0.9826108870967742), Time 25.17\n",
      "Epoch 231, Training ('accuracy', 0.9808467741935484), Time 25.16\n",
      "Epoch 232, Training ('accuracy', 0.984375), Time 25.15\n",
      "Epoch 233, Training ('accuracy', 0.9823588709677419), Time 25.30\n",
      "Epoch 234, Training ('accuracy', 0.9826108870967742), Time 25.18\n",
      "Epoch 235, Training ('accuracy', 0.9838709677419355), Time 25.16\n",
      "Epoch 236, Training ('accuracy', 0.9851310483870968), Time 25.16\n",
      "Epoch 237, Training ('accuracy', 0.984375), Time 25.30\n",
      "Epoch 238, Training ('accuracy', 0.9831149193548387), Time 25.23\n",
      "Epoch 239, Training ('accuracy', 0.9821068548387096), Time 25.22\n"
     ]
    },
    {
     "name": "stderr",
     "output_type": "stream",
     "text": [
      "INFO:root:Saved checkpoint to \"models/chkpt-0240.params\"\n"
     ]
    },
    {
     "name": "stdout",
     "output_type": "stream",
     "text": [
      "Epoch 240, Training ('accuracy', 0.9851310483870968), Time 25.75\n",
      "Epoch 241, Training ('accuracy', 0.9851310483870968), Time 24.78\n",
      "Epoch 242, Training ('accuracy', 0.9848790322580645), Time 25.32\n",
      "Epoch 243, Training ('accuracy', 0.9816028225806451), Time 25.22\n",
      "Epoch 244, Training ('accuracy', 0.9821068548387096), Time 25.22\n",
      "Epoch 245, Training ('accuracy', 0.9831149193548387), Time 25.21\n",
      "Epoch 246, Training ('accuracy', 0.9868951612903226), Time 25.22\n",
      "Epoch 247, Training ('accuracy', 0.985383064516129), Time 25.38\n",
      "Epoch 248, Training ('accuracy', 0.9861391129032258), Time 25.28\n",
      "Epoch 249, Training ('accuracy', 0.9856350806451613), Time 25.26\n",
      "Epoch 250, Training ('accuracy', 0.984375), Time 25.28\n",
      "Epoch 251, Training ('accuracy', 0.985383064516129), Time 25.28\n",
      "Epoch 252, Training ('accuracy', 0.9881552419354839), Time 25.38\n",
      "Epoch 253, Training ('accuracy', 0.9821068548387096), Time 25.29\n",
      "Epoch 254, Training ('accuracy', 0.9848790322580645), Time 25.27\n",
      "Epoch 255, Training ('accuracy', 0.9866431451612904), Time 25.27\n",
      "Epoch 256, Training ('accuracy', 0.9861391129032258), Time 25.41\n",
      "Epoch 257, Training ('accuracy', 0.985383064516129), Time 25.29\n",
      "Epoch 258, Training ('accuracy', 0.9838709677419355), Time 25.26\n",
      "Epoch 259, Training ('accuracy', 0.9836189516129032), Time 25.27\n",
      "Epoch 260, Training ('accuracy', 0.9848790322580645), Time 25.30\n",
      "Epoch 261, Training ('accuracy', 0.9873991935483871), Time 25.39\n",
      "Epoch 262, Training ('accuracy', 0.9871471774193549), Time 25.28\n",
      "Epoch 263, Training ('accuracy', 0.9851310483870968), Time 25.29\n",
      "Epoch 264, Training ('accuracy', 0.9858870967741935), Time 25.27\n",
      "Epoch 265, Training ('accuracy', 0.9863911290322581), Time 25.28\n",
      "Epoch 266, Training ('accuracy', 0.9856350806451613), Time 25.36\n",
      "Epoch 267, Training ('accuracy', 0.9886592741935484), Time 25.27\n",
      "Epoch 268, Training ('accuracy', 0.9856350806451613), Time 25.26\n",
      "Epoch 269, Training ('accuracy', 0.9894153225806451), Time 25.27\n"
     ]
    },
    {
     "name": "stderr",
     "output_type": "stream",
     "text": [
      "INFO:root:Saved checkpoint to \"models/chkpt-0270.params\"\n"
     ]
    },
    {
     "name": "stdout",
     "output_type": "stream",
     "text": [
      "Epoch 270, Training ('accuracy', 0.9884072580645161), Time 25.82\n",
      "Epoch 271, Training ('accuracy', 0.9881552419354839), Time 24.89\n",
      "Epoch 272, Training ('accuracy', 0.9863911290322581), Time 25.26\n",
      "Epoch 273, Training ('accuracy', 0.9861391129032258), Time 25.28\n",
      "Epoch 274, Training ('accuracy', 0.9866431451612904), Time 25.27\n",
      "Epoch 275, Training ('accuracy', 0.9866431451612904), Time 25.39\n",
      "Epoch 276, Training ('accuracy', 0.9868951612903226), Time 25.26\n",
      "Epoch 277, Training ('accuracy', 0.9866431451612904), Time 25.30\n",
      "Epoch 278, Training ('accuracy', 0.9879032258064516), Time 25.29\n",
      "Epoch 279, Training ('accuracy', 0.9866431451612904), Time 25.45\n",
      "Epoch 280, Training ('accuracy', 0.9884072580645161), Time 25.38\n",
      "Epoch 281, Training ('accuracy', 0.9879032258064516), Time 25.24\n",
      "Epoch 282, Training ('accuracy', 0.9889112903225806), Time 25.29\n",
      "Epoch 283, Training ('accuracy', 0.9886592741935484), Time 25.23\n",
      "Epoch 284, Training ('accuracy', 0.9879032258064516), Time 25.27\n",
      "Epoch 285, Training ('accuracy', 0.9866431451612904), Time 25.36\n",
      "Epoch 286, Training ('accuracy', 0.9901713709677419), Time 25.27\n",
      "Epoch 287, Training ('accuracy', 0.9901713709677419), Time 25.24\n",
      "Epoch 288, Training ('accuracy', 0.9901713709677419), Time 25.28\n",
      "Epoch 289, Training ('accuracy', 0.9876512096774194), Time 25.33\n",
      "Epoch 290, Training ('accuracy', 0.9889112903225806), Time 25.36\n",
      "Epoch 291, Training ('accuracy', 0.9901713709677419), Time 25.26\n",
      "Epoch 292, Training ('accuracy', 0.9873991935483871), Time 25.24\n",
      "Epoch 293, Training ('accuracy', 0.9884072580645161), Time 25.27\n",
      "Epoch 294, Training ('accuracy', 0.9896673387096774), Time 25.40\n",
      "Epoch 295, Training ('accuracy', 0.9871471774193549), Time 25.23\n",
      "Epoch 296, Training ('accuracy', 0.9879032258064516), Time 25.25\n",
      "Epoch 297, Training ('accuracy', 0.9896673387096774), Time 25.22\n",
      "Epoch 298, Training ('accuracy', 0.9881552419354839), Time 25.21\n",
      "Epoch 299, Training ('accuracy', 0.9896673387096774), Time 25.33\n"
     ]
    },
    {
     "name": "stderr",
     "output_type": "stream",
     "text": [
      "INFO:root:Saved checkpoint to \"models/chkpt-0300.params\"\n"
     ]
    },
    {
     "name": "stdout",
     "output_type": "stream",
     "text": [
      "Epoch 300, Training ('accuracy', 0.9909274193548387), Time 25.72\n",
      "Epoch 301, Training ('accuracy', 0.9894153225806451), Time 24.69\n",
      "Epoch 302, Training ('accuracy', 0.9891633064516129), Time 25.24\n",
      "Epoch 303, Training ('accuracy', 0.9868951612903226), Time 25.27\n",
      "Epoch 304, Training ('accuracy', 0.9894153225806451), Time 25.36\n",
      "Epoch 305, Training ('accuracy', 0.9891633064516129), Time 25.31\n",
      "Epoch 306, Training ('accuracy', 0.9886592741935484), Time 25.28\n",
      "Epoch 307, Training ('accuracy', 0.9901713709677419), Time 25.30\n",
      "Epoch 308, Training ('accuracy', 0.9876512096774194), Time 25.34\n",
      "Epoch 309, Training ('accuracy', 0.9884072580645161), Time 25.38\n",
      "Epoch 310, Training ('accuracy', 0.9899193548387096), Time 25.29\n",
      "Epoch 311, Training ('accuracy', 0.9886592741935484), Time 25.30\n",
      "Epoch 312, Training ('accuracy', 0.9926915322580645), Time 25.33\n",
      "Epoch 313, Training ('accuracy', 0.9909274193548387), Time 25.53\n",
      "Epoch 314, Training ('accuracy', 0.9886592741935484), Time 25.28\n",
      "Epoch 315, Training ('accuracy', 0.9929435483870968), Time 25.29\n",
      "Epoch 316, Training ('accuracy', 0.9929435483870968), Time 25.28\n",
      "Epoch 317, Training ('accuracy', 0.9924395161290323), Time 27.74\n",
      "Epoch 318, Training ('accuracy', 0.9901713709677419), Time 25.59\n",
      "Epoch 319, Training ('accuracy', 0.9924395161290323), Time 25.35\n",
      "Epoch 320, Training ('accuracy', 0.9901713709677419), Time 25.29\n",
      "Epoch 321, Training ('accuracy', 0.9919354838709677), Time 25.26\n",
      "Epoch 322, Training ('accuracy', 0.9916834677419355), Time 25.30\n",
      "Epoch 323, Training ('accuracy', 0.9901713709677419), Time 25.39\n",
      "Epoch 324, Training ('accuracy', 0.9886592741935484), Time 25.28\n",
      "Epoch 325, Training ('accuracy', 0.9921875), Time 25.47\n",
      "Epoch 326, Training ('accuracy', 0.9891633064516129), Time 25.34\n",
      "Epoch 327, Training ('accuracy', 0.9924395161290323), Time 25.36\n",
      "Epoch 328, Training ('accuracy', 0.9914314516129032), Time 25.24\n",
      "Epoch 329, Training ('accuracy', 0.9899193548387096), Time 25.24\n"
     ]
    },
    {
     "name": "stderr",
     "output_type": "stream",
     "text": [
      "INFO:root:Saved checkpoint to \"models/chkpt-0330.params\"\n"
     ]
    },
    {
     "name": "stdout",
     "output_type": "stream",
     "text": [
      "Epoch 330, Training ('accuracy', 0.9904233870967742), Time 25.76\n",
      "Epoch 331, Training ('accuracy', 0.9909274193548387), Time 24.78\n",
      "Epoch 332, Training ('accuracy', 0.9921875), Time 25.36\n",
      "Epoch 333, Training ('accuracy', 0.9914314516129032), Time 25.25\n",
      "Epoch 334, Training ('accuracy', 0.991179435483871), Time 25.29\n",
      "Epoch 335, Training ('accuracy', 0.9909274193548387), Time 25.26\n",
      "Epoch 336, Training ('accuracy', 0.9921875), Time 25.32\n",
      "Epoch 337, Training ('accuracy', 0.9906754032258065), Time 25.42\n",
      "Epoch 338, Training ('accuracy', 0.9919354838709677), Time 25.26\n",
      "Epoch 339, Training ('accuracy', 0.9906754032258065), Time 25.26\n",
      "Epoch 340, Training ('accuracy', 0.9914314516129032), Time 25.26\n",
      "Epoch 341, Training ('accuracy', 0.9901713709677419), Time 25.24\n",
      "Epoch 342, Training ('accuracy', 0.9914314516129032), Time 25.38\n",
      "Epoch 343, Training ('accuracy', 0.991179435483871), Time 25.31\n",
      "Epoch 344, Training ('accuracy', 0.9924395161290323), Time 25.27\n",
      "Epoch 345, Training ('accuracy', 0.9936995967741935), Time 25.29\n",
      "Epoch 346, Training ('accuracy', 0.9929435483870968), Time 25.79\n",
      "Epoch 347, Training ('accuracy', 0.9914314516129032), Time 25.25\n",
      "Epoch 348, Training ('accuracy', 0.991179435483871), Time 25.22\n",
      "Epoch 349, Training ('accuracy', 0.9894153225806451), Time 25.16\n",
      "Epoch 350, Training ('accuracy', 0.9921875), Time 25.29\n",
      "Epoch 351, Training ('accuracy', 0.9921875), Time 25.28\n",
      "Epoch 352, Training ('accuracy', 0.9906754032258065), Time 25.15\n",
      "Epoch 353, Training ('accuracy', 0.9894153225806451), Time 25.17\n",
      "Epoch 354, Training ('accuracy', 0.9906754032258065), Time 25.12\n",
      "Epoch 355, Training ('accuracy', 0.991179435483871), Time 25.17\n",
      "Epoch 356, Training ('accuracy', 0.9934475806451613), Time 25.31\n",
      "Epoch 357, Training ('accuracy', 0.9914314516129032), Time 25.23\n",
      "Epoch 358, Training ('accuracy', 0.9901713709677419), Time 25.18\n",
      "Epoch 359, Training ('accuracy', 0.9921875), Time 25.18\n"
     ]
    },
    {
     "name": "stderr",
     "output_type": "stream",
     "text": [
      "INFO:root:Saved checkpoint to \"models/chkpt-0360.params\"\n"
     ]
    },
    {
     "name": "stdout",
     "output_type": "stream",
     "text": [
      "Epoch 360, Training ('accuracy', 0.9929435483870968), Time 25.77\n",
      "Epoch 361, Training ('accuracy', 0.9924395161290323), Time 24.82\n",
      "Epoch 362, Training ('accuracy', 0.9944556451612904), Time 25.18\n",
      "Epoch 363, Training ('accuracy', 0.9944556451612904), Time 25.19\n",
      "Epoch 364, Training ('accuracy', 0.9944556451612904), Time 25.15\n",
      "Epoch 365, Training ('accuracy', 0.9942036290322581), Time 25.32\n",
      "Epoch 366, Training ('accuracy', 0.9926915322580645), Time 25.19\n",
      "Epoch 367, Training ('accuracy', 0.9934475806451613), Time 25.19\n",
      "Epoch 368, Training ('accuracy', 0.9936995967741935), Time 25.18\n",
      "Epoch 369, Training ('accuracy', 0.9929435483870968), Time 25.19\n",
      "Epoch 370, Training ('accuracy', 0.993195564516129), Time 25.28\n",
      "Epoch 371, Training ('accuracy', 0.993195564516129), Time 25.16\n",
      "Epoch 372, Training ('accuracy', 0.9924395161290323), Time 25.20\n",
      "Epoch 373, Training ('accuracy', 0.9909274193548387), Time 25.18\n",
      "Epoch 374, Training ('accuracy', 0.991179435483871), Time 25.21\n",
      "Epoch 375, Training ('accuracy', 0.9934475806451613), Time 25.34\n",
      "Epoch 376, Training ('accuracy', 0.9939516129032258), Time 25.23\n",
      "Epoch 377, Training ('accuracy', 0.9929435483870968), Time 25.23\n",
      "Epoch 378, Training ('accuracy', 0.9934475806451613), Time 25.23\n",
      "Epoch 379, Training ('accuracy', 0.9947076612903226), Time 25.21\n",
      "Epoch 380, Training ('accuracy', 0.9906754032258065), Time 25.33\n",
      "Epoch 381, Training ('accuracy', 0.9926915322580645), Time 25.24\n",
      "Epoch 382, Training ('accuracy', 0.993195564516129), Time 25.21\n",
      "Epoch 383, Training ('accuracy', 0.9929435483870968), Time 25.23\n",
      "Epoch 384, Training ('accuracy', 0.9934475806451613), Time 25.38\n",
      "Epoch 385, Training ('accuracy', 0.9926915322580645), Time 25.21\n",
      "Epoch 386, Training ('accuracy', 0.9934475806451613), Time 25.22\n",
      "Epoch 387, Training ('accuracy', 0.9921875), Time 25.23\n",
      "Epoch 388, Training ('accuracy', 0.9942036290322581), Time 25.19\n",
      "Epoch 389, Training ('accuracy', 0.9939516129032258), Time 25.32\n"
     ]
    },
    {
     "name": "stderr",
     "output_type": "stream",
     "text": [
      "INFO:root:Saved checkpoint to \"models/chkpt-0390.params\"\n"
     ]
    },
    {
     "name": "stdout",
     "output_type": "stream",
     "text": [
      "Epoch 390, Training ('accuracy', 0.9916834677419355), Time 25.72\n",
      "Epoch 391, Training ('accuracy', 0.9926915322580645), Time 24.74\n",
      "Epoch 392, Training ('accuracy', 0.9921875), Time 25.23\n",
      "Epoch 393, Training ('accuracy', 0.9914314516129032), Time 25.23\n",
      "Epoch 394, Training ('accuracy', 0.9924395161290323), Time 25.37\n",
      "Epoch 395, Training ('accuracy', 0.9921875), Time 25.27\n",
      "Epoch 396, Training ('accuracy', 0.9947076612903226), Time 25.22\n",
      "Epoch 397, Training ('accuracy', 0.9914314516129032), Time 25.25\n",
      "Epoch 398, Training ('accuracy', 0.9921875), Time 25.24\n",
      "Epoch 399, Training ('accuracy', 0.9936995967741935), Time 25.33\n"
     ]
    }
   ],
   "source": [
    "chk_prefix='models/chkpt'\n",
    "for epoch in range(400):\n",
    "    train_iter.reset()\n",
    "    metric.reset()\n",
    "    \n",
    "    st = time.time()\n",
    "    for batch in train_iter:\n",
    "        model.forward(data_batch=batch, is_train=True)\n",
    "        model.update_metric(metric, batch.label)\n",
    "        model.backward()\n",
    "        model.update()\n",
    "    \n",
    "    if epoch % 30 == 0:\n",
    "#         model_path = '{}_{}'.format(chk_prefix, epoch)\n",
    "        model.save_checkpoint(chk_prefix, epoch)\n",
    "        \n",
    "    et = time.time()-st\n",
    "    print('Epoch %d, Training %s, Time %.2f' % (epoch, metric.get(), et))"
   ]
  },
  {
   "cell_type": "code",
   "execution_count": 26,
   "metadata": {},
   "outputs": [
    {
     "data": {
      "text/plain": [
       "[('accuracy', 0.98046875)]"
      ]
     },
     "execution_count": 26,
     "metadata": {},
     "output_type": "execute_result"
    }
   ],
   "source": [
    "model.score(eval_iter, metric)"
   ]
  },
  {
   "cell_type": "code",
   "execution_count": 28,
   "metadata": {},
   "outputs": [
    {
     "data": {
      "text/plain": [
       "<matplotlib.image.AxesImage at 0x7f7ed81faf50>"
      ]
     },
     "execution_count": 28,
     "metadata": {},
     "output_type": "execute_result"
    },
    {
     "data": {
      "image/png": "[encoded data removed]",
      "text/plain": [
       "<Figure size 432x288 with 1 Axes>"
      ]
     },
     "metadata": {
      "needs_background": "light"
     },
     "output_type": "display_data"
    }
   ],
   "source": [
    "pred_im = cv2.imread('hand2.jpg', 0)\n",
    "plt.imshow(pred_im)"
   ]
  },
  {
   "cell_type": "code",
   "execution_count": null,
   "metadata": {},
   "outputs": [],
   "source": []
  }
 ],
 "metadata": {
  "kernelspec": {
   "display_name": "Python 2",
   "language": "python",
   "name": "python2"
  },
  "language_info": {
   "codemirror_mode": {
    "name": "ipython",
    "version": 2
   },
   "file_extension": ".py",
   "mimetype": "text/x-python",
   "name": "python",
   "nbconvert_exporter": "python",
   "pygments_lexer": "ipython2",
   "version": "2.7.15"
  }
 },
 "nbformat": 4,
 "nbformat_minor": 2
}
